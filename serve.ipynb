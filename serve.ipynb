{
  "nbformat": 4,
  "nbformat_minor": 0,
  "metadata": {
    "colab": {
      "provenance": [],
      "gpuType": "T4",
      "mount_file_id": "1mp1FG2eEslKTgXruHeUGcNp0XCXk5At4",
      "authorship_tag": "ABX9TyPf0mCs7BxeRh9t4G0ukhsi",
      "include_colab_link": true
    },
    "kernelspec": {
      "name": "python3",
      "display_name": "Python 3"
    },
    "language_info": {
      "name": "python"
    },
    "accelerator": "GPU",
    "widgets": {
      "application/vnd.jupyter.widget-state+json": {
        "86d882faee9f42648f4d9371dde84e57": {
          "model_module": "@jupyter-widgets/controls",
          "model_name": "HBoxModel",
          "model_module_version": "1.5.0",
          "state": {
            "_dom_classes": [],
            "_model_module": "@jupyter-widgets/controls",
            "_model_module_version": "1.5.0",
            "_model_name": "HBoxModel",
            "_view_count": null,
            "_view_module": "@jupyter-widgets/controls",
            "_view_module_version": "1.5.0",
            "_view_name": "HBoxView",
            "box_style": "",
            "children": [
              "IPY_MODEL_864a866307f04da79dde965d6a8261b2",
              "IPY_MODEL_b380ed7a34fc40c091fb99e59d8c8dd1",
              "IPY_MODEL_cc43528388f04151b04e58826510ce2d"
            ],
            "layout": "IPY_MODEL_d848d53b1f5c459e86b0de190fd53e0d"
          }
        },
        "864a866307f04da79dde965d6a8261b2": {
          "model_module": "@jupyter-widgets/controls",
          "model_name": "HTMLModel",
          "model_module_version": "1.5.0",
          "state": {
            "_dom_classes": [],
            "_model_module": "@jupyter-widgets/controls",
            "_model_module_version": "1.5.0",
            "_model_name": "HTMLModel",
            "_view_count": null,
            "_view_module": "@jupyter-widgets/controls",
            "_view_module_version": "1.5.0",
            "_view_name": "HTMLView",
            "description": "",
            "description_tooltip": null,
            "layout": "IPY_MODEL_cd11982c0503494388fd08a0de0c86c5",
            "placeholder": "​",
            "style": "IPY_MODEL_da0585007ecb4552b0ab8229696bbd51",
            "value": "config.json: 100%"
          }
        },
        "b380ed7a34fc40c091fb99e59d8c8dd1": {
          "model_module": "@jupyter-widgets/controls",
          "model_name": "FloatProgressModel",
          "model_module_version": "1.5.0",
          "state": {
            "_dom_classes": [],
            "_model_module": "@jupyter-widgets/controls",
            "_model_module_version": "1.5.0",
            "_model_name": "FloatProgressModel",
            "_view_count": null,
            "_view_module": "@jupyter-widgets/controls",
            "_view_module_version": "1.5.0",
            "_view_name": "ProgressView",
            "bar_style": "success",
            "description": "",
            "description_tooltip": null,
            "layout": "IPY_MODEL_01f1c2f88495479fa66880c0d932f488",
            "max": 608,
            "min": 0,
            "orientation": "horizontal",
            "style": "IPY_MODEL_d6f444e39f524016b9506e3a1c1df91c",
            "value": 608
          }
        },
        "cc43528388f04151b04e58826510ce2d": {
          "model_module": "@jupyter-widgets/controls",
          "model_name": "HTMLModel",
          "model_module_version": "1.5.0",
          "state": {
            "_dom_classes": [],
            "_model_module": "@jupyter-widgets/controls",
            "_model_module_version": "1.5.0",
            "_model_name": "HTMLModel",
            "_view_count": null,
            "_view_module": "@jupyter-widgets/controls",
            "_view_module_version": "1.5.0",
            "_view_name": "HTMLView",
            "description": "",
            "description_tooltip": null,
            "layout": "IPY_MODEL_12bd6f5ae66944c6adfc512726a4d6cc",
            "placeholder": "​",
            "style": "IPY_MODEL_230f4086308a4ef0b53d194845ff869b",
            "value": " 608/608 [00:00&lt;00:00, 10.7kB/s]"
          }
        },
        "d848d53b1f5c459e86b0de190fd53e0d": {
          "model_module": "@jupyter-widgets/base",
          "model_name": "LayoutModel",
          "model_module_version": "1.2.0",
          "state": {
            "_model_module": "@jupyter-widgets/base",
            "_model_module_version": "1.2.0",
            "_model_name": "LayoutModel",
            "_view_count": null,
            "_view_module": "@jupyter-widgets/base",
            "_view_module_version": "1.2.0",
            "_view_name": "LayoutView",
            "align_content": null,
            "align_items": null,
            "align_self": null,
            "border": null,
            "bottom": null,
            "display": null,
            "flex": null,
            "flex_flow": null,
            "grid_area": null,
            "grid_auto_columns": null,
            "grid_auto_flow": null,
            "grid_auto_rows": null,
            "grid_column": null,
            "grid_gap": null,
            "grid_row": null,
            "grid_template_areas": null,
            "grid_template_columns": null,
            "grid_template_rows": null,
            "height": null,
            "justify_content": null,
            "justify_items": null,
            "left": null,
            "margin": null,
            "max_height": null,
            "max_width": null,
            "min_height": null,
            "min_width": null,
            "object_fit": null,
            "object_position": null,
            "order": null,
            "overflow": null,
            "overflow_x": null,
            "overflow_y": null,
            "padding": null,
            "right": null,
            "top": null,
            "visibility": null,
            "width": null
          }
        },
        "cd11982c0503494388fd08a0de0c86c5": {
          "model_module": "@jupyter-widgets/base",
          "model_name": "LayoutModel",
          "model_module_version": "1.2.0",
          "state": {
            "_model_module": "@jupyter-widgets/base",
            "_model_module_version": "1.2.0",
            "_model_name": "LayoutModel",
            "_view_count": null,
            "_view_module": "@jupyter-widgets/base",
            "_view_module_version": "1.2.0",
            "_view_name": "LayoutView",
            "align_content": null,
            "align_items": null,
            "align_self": null,
            "border": null,
            "bottom": null,
            "display": null,
            "flex": null,
            "flex_flow": null,
            "grid_area": null,
            "grid_auto_columns": null,
            "grid_auto_flow": null,
            "grid_auto_rows": null,
            "grid_column": null,
            "grid_gap": null,
            "grid_row": null,
            "grid_template_areas": null,
            "grid_template_columns": null,
            "grid_template_rows": null,
            "height": null,
            "justify_content": null,
            "justify_items": null,
            "left": null,
            "margin": null,
            "max_height": null,
            "max_width": null,
            "min_height": null,
            "min_width": null,
            "object_fit": null,
            "object_position": null,
            "order": null,
            "overflow": null,
            "overflow_x": null,
            "overflow_y": null,
            "padding": null,
            "right": null,
            "top": null,
            "visibility": null,
            "width": null
          }
        },
        "da0585007ecb4552b0ab8229696bbd51": {
          "model_module": "@jupyter-widgets/controls",
          "model_name": "DescriptionStyleModel",
          "model_module_version": "1.5.0",
          "state": {
            "_model_module": "@jupyter-widgets/controls",
            "_model_module_version": "1.5.0",
            "_model_name": "DescriptionStyleModel",
            "_view_count": null,
            "_view_module": "@jupyter-widgets/base",
            "_view_module_version": "1.2.0",
            "_view_name": "StyleView",
            "description_width": ""
          }
        },
        "01f1c2f88495479fa66880c0d932f488": {
          "model_module": "@jupyter-widgets/base",
          "model_name": "LayoutModel",
          "model_module_version": "1.2.0",
          "state": {
            "_model_module": "@jupyter-widgets/base",
            "_model_module_version": "1.2.0",
            "_model_name": "LayoutModel",
            "_view_count": null,
            "_view_module": "@jupyter-widgets/base",
            "_view_module_version": "1.2.0",
            "_view_name": "LayoutView",
            "align_content": null,
            "align_items": null,
            "align_self": null,
            "border": null,
            "bottom": null,
            "display": null,
            "flex": null,
            "flex_flow": null,
            "grid_area": null,
            "grid_auto_columns": null,
            "grid_auto_flow": null,
            "grid_auto_rows": null,
            "grid_column": null,
            "grid_gap": null,
            "grid_row": null,
            "grid_template_areas": null,
            "grid_template_columns": null,
            "grid_template_rows": null,
            "height": null,
            "justify_content": null,
            "justify_items": null,
            "left": null,
            "margin": null,
            "max_height": null,
            "max_width": null,
            "min_height": null,
            "min_width": null,
            "object_fit": null,
            "object_position": null,
            "order": null,
            "overflow": null,
            "overflow_x": null,
            "overflow_y": null,
            "padding": null,
            "right": null,
            "top": null,
            "visibility": null,
            "width": null
          }
        },
        "d6f444e39f524016b9506e3a1c1df91c": {
          "model_module": "@jupyter-widgets/controls",
          "model_name": "ProgressStyleModel",
          "model_module_version": "1.5.0",
          "state": {
            "_model_module": "@jupyter-widgets/controls",
            "_model_module_version": "1.5.0",
            "_model_name": "ProgressStyleModel",
            "_view_count": null,
            "_view_module": "@jupyter-widgets/base",
            "_view_module_version": "1.2.0",
            "_view_name": "StyleView",
            "bar_color": null,
            "description_width": ""
          }
        },
        "12bd6f5ae66944c6adfc512726a4d6cc": {
          "model_module": "@jupyter-widgets/base",
          "model_name": "LayoutModel",
          "model_module_version": "1.2.0",
          "state": {
            "_model_module": "@jupyter-widgets/base",
            "_model_module_version": "1.2.0",
            "_model_name": "LayoutModel",
            "_view_count": null,
            "_view_module": "@jupyter-widgets/base",
            "_view_module_version": "1.2.0",
            "_view_name": "LayoutView",
            "align_content": null,
            "align_items": null,
            "align_self": null,
            "border": null,
            "bottom": null,
            "display": null,
            "flex": null,
            "flex_flow": null,
            "grid_area": null,
            "grid_auto_columns": null,
            "grid_auto_flow": null,
            "grid_auto_rows": null,
            "grid_column": null,
            "grid_gap": null,
            "grid_row": null,
            "grid_template_areas": null,
            "grid_template_columns": null,
            "grid_template_rows": null,
            "height": null,
            "justify_content": null,
            "justify_items": null,
            "left": null,
            "margin": null,
            "max_height": null,
            "max_width": null,
            "min_height": null,
            "min_width": null,
            "object_fit": null,
            "object_position": null,
            "order": null,
            "overflow": null,
            "overflow_x": null,
            "overflow_y": null,
            "padding": null,
            "right": null,
            "top": null,
            "visibility": null,
            "width": null
          }
        },
        "230f4086308a4ef0b53d194845ff869b": {
          "model_module": "@jupyter-widgets/controls",
          "model_name": "DescriptionStyleModel",
          "model_module_version": "1.5.0",
          "state": {
            "_model_module": "@jupyter-widgets/controls",
            "_model_module_version": "1.5.0",
            "_model_name": "DescriptionStyleModel",
            "_view_count": null,
            "_view_module": "@jupyter-widgets/base",
            "_view_module_version": "1.2.0",
            "_view_name": "StyleView",
            "description_width": ""
          }
        },
        "19613df055da4a4886df26558cee8e16": {
          "model_module": "@jupyter-widgets/controls",
          "model_name": "HBoxModel",
          "model_module_version": "1.5.0",
          "state": {
            "_dom_classes": [],
            "_model_module": "@jupyter-widgets/controls",
            "_model_module_version": "1.5.0",
            "_model_name": "HBoxModel",
            "_view_count": null,
            "_view_module": "@jupyter-widgets/controls",
            "_view_module_version": "1.5.0",
            "_view_name": "HBoxView",
            "box_style": "",
            "children": [
              "IPY_MODEL_3ac6935cf8494b168cccee4b4683e2f2",
              "IPY_MODEL_193a1c71da704ce2ac7ed574c21d565a",
              "IPY_MODEL_1fa36f8f680b409883eac9f049cc5fe7"
            ],
            "layout": "IPY_MODEL_e4230a2c5813400287071e8ca7c9280f"
          }
        },
        "3ac6935cf8494b168cccee4b4683e2f2": {
          "model_module": "@jupyter-widgets/controls",
          "model_name": "HTMLModel",
          "model_module_version": "1.5.0",
          "state": {
            "_dom_classes": [],
            "_model_module": "@jupyter-widgets/controls",
            "_model_module_version": "1.5.0",
            "_model_name": "HTMLModel",
            "_view_count": null,
            "_view_module": "@jupyter-widgets/controls",
            "_view_module_version": "1.5.0",
            "_view_name": "HTMLView",
            "description": "",
            "description_tooltip": null,
            "layout": "IPY_MODEL_2e22ac3228b544478452231343b47c58",
            "placeholder": "​",
            "style": "IPY_MODEL_635bf3e2064d4234b0b1a5bff35ecd55",
            "value": "model.safetensors: 100%"
          }
        },
        "193a1c71da704ce2ac7ed574c21d565a": {
          "model_module": "@jupyter-widgets/controls",
          "model_name": "FloatProgressModel",
          "model_module_version": "1.5.0",
          "state": {
            "_dom_classes": [],
            "_model_module": "@jupyter-widgets/controls",
            "_model_module_version": "1.5.0",
            "_model_name": "FloatProgressModel",
            "_view_count": null,
            "_view_module": "@jupyter-widgets/controls",
            "_view_module_version": "1.5.0",
            "_view_name": "ProgressView",
            "bar_style": "success",
            "description": "",
            "description_tooltip": null,
            "layout": "IPY_MODEL_96b10b783508483d92472c533a143e66",
            "max": 2200119864,
            "min": 0,
            "orientation": "horizontal",
            "style": "IPY_MODEL_8cf46f602c0d40cfb5ac9f536ea6057f",
            "value": 2200119864
          }
        },
        "1fa36f8f680b409883eac9f049cc5fe7": {
          "model_module": "@jupyter-widgets/controls",
          "model_name": "HTMLModel",
          "model_module_version": "1.5.0",
          "state": {
            "_dom_classes": [],
            "_model_module": "@jupyter-widgets/controls",
            "_model_module_version": "1.5.0",
            "_model_name": "HTMLModel",
            "_view_count": null,
            "_view_module": "@jupyter-widgets/controls",
            "_view_module_version": "1.5.0",
            "_view_name": "HTMLView",
            "description": "",
            "description_tooltip": null,
            "layout": "IPY_MODEL_02060addb3e744b8ae1f09ad33d4508e",
            "placeholder": "​",
            "style": "IPY_MODEL_efa7af3082df4d81bca064a981f90162",
            "value": " 2.20G/2.20G [00:23&lt;00:00, 173MB/s]"
          }
        },
        "e4230a2c5813400287071e8ca7c9280f": {
          "model_module": "@jupyter-widgets/base",
          "model_name": "LayoutModel",
          "model_module_version": "1.2.0",
          "state": {
            "_model_module": "@jupyter-widgets/base",
            "_model_module_version": "1.2.0",
            "_model_name": "LayoutModel",
            "_view_count": null,
            "_view_module": "@jupyter-widgets/base",
            "_view_module_version": "1.2.0",
            "_view_name": "LayoutView",
            "align_content": null,
            "align_items": null,
            "align_self": null,
            "border": null,
            "bottom": null,
            "display": null,
            "flex": null,
            "flex_flow": null,
            "grid_area": null,
            "grid_auto_columns": null,
            "grid_auto_flow": null,
            "grid_auto_rows": null,
            "grid_column": null,
            "grid_gap": null,
            "grid_row": null,
            "grid_template_areas": null,
            "grid_template_columns": null,
            "grid_template_rows": null,
            "height": null,
            "justify_content": null,
            "justify_items": null,
            "left": null,
            "margin": null,
            "max_height": null,
            "max_width": null,
            "min_height": null,
            "min_width": null,
            "object_fit": null,
            "object_position": null,
            "order": null,
            "overflow": null,
            "overflow_x": null,
            "overflow_y": null,
            "padding": null,
            "right": null,
            "top": null,
            "visibility": null,
            "width": null
          }
        },
        "2e22ac3228b544478452231343b47c58": {
          "model_module": "@jupyter-widgets/base",
          "model_name": "LayoutModel",
          "model_module_version": "1.2.0",
          "state": {
            "_model_module": "@jupyter-widgets/base",
            "_model_module_version": "1.2.0",
            "_model_name": "LayoutModel",
            "_view_count": null,
            "_view_module": "@jupyter-widgets/base",
            "_view_module_version": "1.2.0",
            "_view_name": "LayoutView",
            "align_content": null,
            "align_items": null,
            "align_self": null,
            "border": null,
            "bottom": null,
            "display": null,
            "flex": null,
            "flex_flow": null,
            "grid_area": null,
            "grid_auto_columns": null,
            "grid_auto_flow": null,
            "grid_auto_rows": null,
            "grid_column": null,
            "grid_gap": null,
            "grid_row": null,
            "grid_template_areas": null,
            "grid_template_columns": null,
            "grid_template_rows": null,
            "height": null,
            "justify_content": null,
            "justify_items": null,
            "left": null,
            "margin": null,
            "max_height": null,
            "max_width": null,
            "min_height": null,
            "min_width": null,
            "object_fit": null,
            "object_position": null,
            "order": null,
            "overflow": null,
            "overflow_x": null,
            "overflow_y": null,
            "padding": null,
            "right": null,
            "top": null,
            "visibility": null,
            "width": null
          }
        },
        "635bf3e2064d4234b0b1a5bff35ecd55": {
          "model_module": "@jupyter-widgets/controls",
          "model_name": "DescriptionStyleModel",
          "model_module_version": "1.5.0",
          "state": {
            "_model_module": "@jupyter-widgets/controls",
            "_model_module_version": "1.5.0",
            "_model_name": "DescriptionStyleModel",
            "_view_count": null,
            "_view_module": "@jupyter-widgets/base",
            "_view_module_version": "1.2.0",
            "_view_name": "StyleView",
            "description_width": ""
          }
        },
        "96b10b783508483d92472c533a143e66": {
          "model_module": "@jupyter-widgets/base",
          "model_name": "LayoutModel",
          "model_module_version": "1.2.0",
          "state": {
            "_model_module": "@jupyter-widgets/base",
            "_model_module_version": "1.2.0",
            "_model_name": "LayoutModel",
            "_view_count": null,
            "_view_module": "@jupyter-widgets/base",
            "_view_module_version": "1.2.0",
            "_view_name": "LayoutView",
            "align_content": null,
            "align_items": null,
            "align_self": null,
            "border": null,
            "bottom": null,
            "display": null,
            "flex": null,
            "flex_flow": null,
            "grid_area": null,
            "grid_auto_columns": null,
            "grid_auto_flow": null,
            "grid_auto_rows": null,
            "grid_column": null,
            "grid_gap": null,
            "grid_row": null,
            "grid_template_areas": null,
            "grid_template_columns": null,
            "grid_template_rows": null,
            "height": null,
            "justify_content": null,
            "justify_items": null,
            "left": null,
            "margin": null,
            "max_height": null,
            "max_width": null,
            "min_height": null,
            "min_width": null,
            "object_fit": null,
            "object_position": null,
            "order": null,
            "overflow": null,
            "overflow_x": null,
            "overflow_y": null,
            "padding": null,
            "right": null,
            "top": null,
            "visibility": null,
            "width": null
          }
        },
        "8cf46f602c0d40cfb5ac9f536ea6057f": {
          "model_module": "@jupyter-widgets/controls",
          "model_name": "ProgressStyleModel",
          "model_module_version": "1.5.0",
          "state": {
            "_model_module": "@jupyter-widgets/controls",
            "_model_module_version": "1.5.0",
            "_model_name": "ProgressStyleModel",
            "_view_count": null,
            "_view_module": "@jupyter-widgets/base",
            "_view_module_version": "1.2.0",
            "_view_name": "StyleView",
            "bar_color": null,
            "description_width": ""
          }
        },
        "02060addb3e744b8ae1f09ad33d4508e": {
          "model_module": "@jupyter-widgets/base",
          "model_name": "LayoutModel",
          "model_module_version": "1.2.0",
          "state": {
            "_model_module": "@jupyter-widgets/base",
            "_model_module_version": "1.2.0",
            "_model_name": "LayoutModel",
            "_view_count": null,
            "_view_module": "@jupyter-widgets/base",
            "_view_module_version": "1.2.0",
            "_view_name": "LayoutView",
            "align_content": null,
            "align_items": null,
            "align_self": null,
            "border": null,
            "bottom": null,
            "display": null,
            "flex": null,
            "flex_flow": null,
            "grid_area": null,
            "grid_auto_columns": null,
            "grid_auto_flow": null,
            "grid_auto_rows": null,
            "grid_column": null,
            "grid_gap": null,
            "grid_row": null,
            "grid_template_areas": null,
            "grid_template_columns": null,
            "grid_template_rows": null,
            "height": null,
            "justify_content": null,
            "justify_items": null,
            "left": null,
            "margin": null,
            "max_height": null,
            "max_width": null,
            "min_height": null,
            "min_width": null,
            "object_fit": null,
            "object_position": null,
            "order": null,
            "overflow": null,
            "overflow_x": null,
            "overflow_y": null,
            "padding": null,
            "right": null,
            "top": null,
            "visibility": null,
            "width": null
          }
        },
        "efa7af3082df4d81bca064a981f90162": {
          "model_module": "@jupyter-widgets/controls",
          "model_name": "DescriptionStyleModel",
          "model_module_version": "1.5.0",
          "state": {
            "_model_module": "@jupyter-widgets/controls",
            "_model_module_version": "1.5.0",
            "_model_name": "DescriptionStyleModel",
            "_view_count": null,
            "_view_module": "@jupyter-widgets/base",
            "_view_module_version": "1.2.0",
            "_view_name": "StyleView",
            "description_width": ""
          }
        },
        "e467c1881c384e3093258039b8164126": {
          "model_module": "@jupyter-widgets/controls",
          "model_name": "HBoxModel",
          "model_module_version": "1.5.0",
          "state": {
            "_dom_classes": [],
            "_model_module": "@jupyter-widgets/controls",
            "_model_module_version": "1.5.0",
            "_model_name": "HBoxModel",
            "_view_count": null,
            "_view_module": "@jupyter-widgets/controls",
            "_view_module_version": "1.5.0",
            "_view_name": "HBoxView",
            "box_style": "",
            "children": [
              "IPY_MODEL_dc7839db138a4ea0a91617a584bc1c02",
              "IPY_MODEL_edd078c2ff454a079553f584e13962f7",
              "IPY_MODEL_b35c126d2ab84fd18838d8b2432a47e7"
            ],
            "layout": "IPY_MODEL_e343e7235b944656b784cce5c64e2056"
          }
        },
        "dc7839db138a4ea0a91617a584bc1c02": {
          "model_module": "@jupyter-widgets/controls",
          "model_name": "HTMLModel",
          "model_module_version": "1.5.0",
          "state": {
            "_dom_classes": [],
            "_model_module": "@jupyter-widgets/controls",
            "_model_module_version": "1.5.0",
            "_model_name": "HTMLModel",
            "_view_count": null,
            "_view_module": "@jupyter-widgets/controls",
            "_view_module_version": "1.5.0",
            "_view_name": "HTMLView",
            "description": "",
            "description_tooltip": null,
            "layout": "IPY_MODEL_2cfde0cbde8644ca8dcac231227753ef",
            "placeholder": "​",
            "style": "IPY_MODEL_1cda863f211848949b74337f6bc1584b",
            "value": "generation_config.json: 100%"
          }
        },
        "edd078c2ff454a079553f584e13962f7": {
          "model_module": "@jupyter-widgets/controls",
          "model_name": "FloatProgressModel",
          "model_module_version": "1.5.0",
          "state": {
            "_dom_classes": [],
            "_model_module": "@jupyter-widgets/controls",
            "_model_module_version": "1.5.0",
            "_model_name": "FloatProgressModel",
            "_view_count": null,
            "_view_module": "@jupyter-widgets/controls",
            "_view_module_version": "1.5.0",
            "_view_name": "ProgressView",
            "bar_style": "success",
            "description": "",
            "description_tooltip": null,
            "layout": "IPY_MODEL_0d46306762f241969d5fe6e1e50d01aa",
            "max": 124,
            "min": 0,
            "orientation": "horizontal",
            "style": "IPY_MODEL_d39e526c225147d5ad03b169353dfc89",
            "value": 124
          }
        },
        "b35c126d2ab84fd18838d8b2432a47e7": {
          "model_module": "@jupyter-widgets/controls",
          "model_name": "HTMLModel",
          "model_module_version": "1.5.0",
          "state": {
            "_dom_classes": [],
            "_model_module": "@jupyter-widgets/controls",
            "_model_module_version": "1.5.0",
            "_model_name": "HTMLModel",
            "_view_count": null,
            "_view_module": "@jupyter-widgets/controls",
            "_view_module_version": "1.5.0",
            "_view_name": "HTMLView",
            "description": "",
            "description_tooltip": null,
            "layout": "IPY_MODEL_2c2baf2333c24f08bf6d7f65d6452a89",
            "placeholder": "​",
            "style": "IPY_MODEL_7f5c1a1deef446d9b95bab39d67dedbd",
            "value": " 124/124 [00:00&lt;00:00, 2.23kB/s]"
          }
        },
        "e343e7235b944656b784cce5c64e2056": {
          "model_module": "@jupyter-widgets/base",
          "model_name": "LayoutModel",
          "model_module_version": "1.2.0",
          "state": {
            "_model_module": "@jupyter-widgets/base",
            "_model_module_version": "1.2.0",
            "_model_name": "LayoutModel",
            "_view_count": null,
            "_view_module": "@jupyter-widgets/base",
            "_view_module_version": "1.2.0",
            "_view_name": "LayoutView",
            "align_content": null,
            "align_items": null,
            "align_self": null,
            "border": null,
            "bottom": null,
            "display": null,
            "flex": null,
            "flex_flow": null,
            "grid_area": null,
            "grid_auto_columns": null,
            "grid_auto_flow": null,
            "grid_auto_rows": null,
            "grid_column": null,
            "grid_gap": null,
            "grid_row": null,
            "grid_template_areas": null,
            "grid_template_columns": null,
            "grid_template_rows": null,
            "height": null,
            "justify_content": null,
            "justify_items": null,
            "left": null,
            "margin": null,
            "max_height": null,
            "max_width": null,
            "min_height": null,
            "min_width": null,
            "object_fit": null,
            "object_position": null,
            "order": null,
            "overflow": null,
            "overflow_x": null,
            "overflow_y": null,
            "padding": null,
            "right": null,
            "top": null,
            "visibility": null,
            "width": null
          }
        },
        "2cfde0cbde8644ca8dcac231227753ef": {
          "model_module": "@jupyter-widgets/base",
          "model_name": "LayoutModel",
          "model_module_version": "1.2.0",
          "state": {
            "_model_module": "@jupyter-widgets/base",
            "_model_module_version": "1.2.0",
            "_model_name": "LayoutModel",
            "_view_count": null,
            "_view_module": "@jupyter-widgets/base",
            "_view_module_version": "1.2.0",
            "_view_name": "LayoutView",
            "align_content": null,
            "align_items": null,
            "align_self": null,
            "border": null,
            "bottom": null,
            "display": null,
            "flex": null,
            "flex_flow": null,
            "grid_area": null,
            "grid_auto_columns": null,
            "grid_auto_flow": null,
            "grid_auto_rows": null,
            "grid_column": null,
            "grid_gap": null,
            "grid_row": null,
            "grid_template_areas": null,
            "grid_template_columns": null,
            "grid_template_rows": null,
            "height": null,
            "justify_content": null,
            "justify_items": null,
            "left": null,
            "margin": null,
            "max_height": null,
            "max_width": null,
            "min_height": null,
            "min_width": null,
            "object_fit": null,
            "object_position": null,
            "order": null,
            "overflow": null,
            "overflow_x": null,
            "overflow_y": null,
            "padding": null,
            "right": null,
            "top": null,
            "visibility": null,
            "width": null
          }
        },
        "1cda863f211848949b74337f6bc1584b": {
          "model_module": "@jupyter-widgets/controls",
          "model_name": "DescriptionStyleModel",
          "model_module_version": "1.5.0",
          "state": {
            "_model_module": "@jupyter-widgets/controls",
            "_model_module_version": "1.5.0",
            "_model_name": "DescriptionStyleModel",
            "_view_count": null,
            "_view_module": "@jupyter-widgets/base",
            "_view_module_version": "1.2.0",
            "_view_name": "StyleView",
            "description_width": ""
          }
        },
        "0d46306762f241969d5fe6e1e50d01aa": {
          "model_module": "@jupyter-widgets/base",
          "model_name": "LayoutModel",
          "model_module_version": "1.2.0",
          "state": {
            "_model_module": "@jupyter-widgets/base",
            "_model_module_version": "1.2.0",
            "_model_name": "LayoutModel",
            "_view_count": null,
            "_view_module": "@jupyter-widgets/base",
            "_view_module_version": "1.2.0",
            "_view_name": "LayoutView",
            "align_content": null,
            "align_items": null,
            "align_self": null,
            "border": null,
            "bottom": null,
            "display": null,
            "flex": null,
            "flex_flow": null,
            "grid_area": null,
            "grid_auto_columns": null,
            "grid_auto_flow": null,
            "grid_auto_rows": null,
            "grid_column": null,
            "grid_gap": null,
            "grid_row": null,
            "grid_template_areas": null,
            "grid_template_columns": null,
            "grid_template_rows": null,
            "height": null,
            "justify_content": null,
            "justify_items": null,
            "left": null,
            "margin": null,
            "max_height": null,
            "max_width": null,
            "min_height": null,
            "min_width": null,
            "object_fit": null,
            "object_position": null,
            "order": null,
            "overflow": null,
            "overflow_x": null,
            "overflow_y": null,
            "padding": null,
            "right": null,
            "top": null,
            "visibility": null,
            "width": null
          }
        },
        "d39e526c225147d5ad03b169353dfc89": {
          "model_module": "@jupyter-widgets/controls",
          "model_name": "ProgressStyleModel",
          "model_module_version": "1.5.0",
          "state": {
            "_model_module": "@jupyter-widgets/controls",
            "_model_module_version": "1.5.0",
            "_model_name": "ProgressStyleModel",
            "_view_count": null,
            "_view_module": "@jupyter-widgets/base",
            "_view_module_version": "1.2.0",
            "_view_name": "StyleView",
            "bar_color": null,
            "description_width": ""
          }
        },
        "2c2baf2333c24f08bf6d7f65d6452a89": {
          "model_module": "@jupyter-widgets/base",
          "model_name": "LayoutModel",
          "model_module_version": "1.2.0",
          "state": {
            "_model_module": "@jupyter-widgets/base",
            "_model_module_version": "1.2.0",
            "_model_name": "LayoutModel",
            "_view_count": null,
            "_view_module": "@jupyter-widgets/base",
            "_view_module_version": "1.2.0",
            "_view_name": "LayoutView",
            "align_content": null,
            "align_items": null,
            "align_self": null,
            "border": null,
            "bottom": null,
            "display": null,
            "flex": null,
            "flex_flow": null,
            "grid_area": null,
            "grid_auto_columns": null,
            "grid_auto_flow": null,
            "grid_auto_rows": null,
            "grid_column": null,
            "grid_gap": null,
            "grid_row": null,
            "grid_template_areas": null,
            "grid_template_columns": null,
            "grid_template_rows": null,
            "height": null,
            "justify_content": null,
            "justify_items": null,
            "left": null,
            "margin": null,
            "max_height": null,
            "max_width": null,
            "min_height": null,
            "min_width": null,
            "object_fit": null,
            "object_position": null,
            "order": null,
            "overflow": null,
            "overflow_x": null,
            "overflow_y": null,
            "padding": null,
            "right": null,
            "top": null,
            "visibility": null,
            "width": null
          }
        },
        "7f5c1a1deef446d9b95bab39d67dedbd": {
          "model_module": "@jupyter-widgets/controls",
          "model_name": "DescriptionStyleModel",
          "model_module_version": "1.5.0",
          "state": {
            "_model_module": "@jupyter-widgets/controls",
            "_model_module_version": "1.5.0",
            "_model_name": "DescriptionStyleModel",
            "_view_count": null,
            "_view_module": "@jupyter-widgets/base",
            "_view_module_version": "1.2.0",
            "_view_name": "StyleView",
            "description_width": ""
          }
        }
      }
    }
  },
  "cells": [
    {
      "cell_type": "markdown",
      "metadata": {
        "id": "view-in-github",
        "colab_type": "text"
      },
      "source": [
        "<a href=\"https://colab.research.google.com/github/aryamanpathak2022/Chess/blob/main/serve.ipynb\" target=\"_parent\"><img src=\"https://colab.research.google.com/assets/colab-badge.svg\" alt=\"Open In Colab\"/></a>"
      ]
    },
    {
      "cell_type": "code",
      "source": [
        "!pip install bitsandbytes einops wandb -Uqqq\n",
        "!pip install trl transformers accelerate git+https://github.com/huggingface/peft.git -Uqqq\n",
        "!pip install flask\n",
        "!pip install pyngrok"
      ],
      "metadata": {
        "colab": {
          "base_uri": "https://localhost:8080/"
        },
        "id": "-Q2TOhmmAeY1",
        "outputId": "f8c2f667-8d2a-4964-de5f-d7e5761f7917"
      },
      "execution_count": null,
      "outputs": [
        {
          "output_type": "stream",
          "name": "stdout",
          "text": [
            "\u001b[2K   \u001b[90m━━━━━━━━━━━━━━━━━━━━━━━━━━━━━━━━━━━━━━━━\u001b[0m \u001b[32m137.5/137.5 MB\u001b[0m \u001b[31m7.0 MB/s\u001b[0m eta \u001b[36m0:00:00\u001b[0m\n",
            "\u001b[2K   \u001b[90m━━━━━━━━━━━━━━━━━━━━━━━━━━━━━━━━━━━━━━━━\u001b[0m \u001b[32m9.3/9.3 MB\u001b[0m \u001b[31m78.3 MB/s\u001b[0m eta \u001b[36m0:00:00\u001b[0m\n",
            "\u001b[2K   \u001b[90m━━━━━━━━━━━━━━━━━━━━━━━━━━━━━━━━━━━━━━━━\u001b[0m \u001b[32m207.3/207.3 kB\u001b[0m \u001b[31m12.0 MB/s\u001b[0m eta \u001b[36m0:00:00\u001b[0m\n",
            "\u001b[2K   \u001b[90m━━━━━━━━━━━━━━━━━━━━━━━━━━━━━━━━━━━━━━━━\u001b[0m \u001b[32m309.1/309.1 kB\u001b[0m \u001b[31m15.9 MB/s\u001b[0m eta \u001b[36m0:00:00\u001b[0m\n",
            "\u001b[2K   \u001b[90m━━━━━━━━━━━━━━━━━━━━━━━━━━━━━━━━━━━━━━━━\u001b[0m \u001b[32m62.7/62.7 kB\u001b[0m \u001b[31m5.7 MB/s\u001b[0m eta \u001b[36m0:00:00\u001b[0m\n",
            "\u001b[?25h  Installing build dependencies ... \u001b[?25l\u001b[?25hdone\n",
            "  Getting requirements to build wheel ... \u001b[?25l\u001b[?25hdone\n",
            "  Preparing metadata (pyproject.toml) ... \u001b[?25l\u001b[?25hdone\n",
            "\u001b[2K     \u001b[90m━━━━━━━━━━━━━━━━━━━━━━━━━━━━━━━━━━━━━━━━\u001b[0m \u001b[32m43.7/43.7 kB\u001b[0m \u001b[31m2.0 MB/s\u001b[0m eta \u001b[36m0:00:00\u001b[0m\n",
            "\u001b[2K   \u001b[90m━━━━━━━━━━━━━━━━━━━━━━━━━━━━━━━━━━━━━━━━\u001b[0m \u001b[32m245.8/245.8 kB\u001b[0m \u001b[31m18.3 MB/s\u001b[0m eta \u001b[36m0:00:00\u001b[0m\n",
            "\u001b[2K   \u001b[90m━━━━━━━━━━━━━━━━━━━━━━━━━━━━━━━━━━━━━━━━\u001b[0m \u001b[32m9.5/9.5 MB\u001b[0m \u001b[31m65.2 MB/s\u001b[0m eta \u001b[36m0:00:00\u001b[0m\n",
            "\u001b[2K   \u001b[90m━━━━━━━━━━━━━━━━━━━━━━━━━━━━━━━━━━━━━━━━\u001b[0m \u001b[32m315.1/315.1 kB\u001b[0m \u001b[31m21.1 MB/s\u001b[0m eta \u001b[36m0:00:00\u001b[0m\n",
            "\u001b[2K   \u001b[90m━━━━━━━━━━━━━━━━━━━━━━━━━━━━━━━━━━━━━━━━\u001b[0m \u001b[32m105.7/105.7 kB\u001b[0m \u001b[31m4.1 MB/s\u001b[0m eta \u001b[36m0:00:00\u001b[0m\n",
            "\u001b[2K   \u001b[90m━━━━━━━━━━━━━━━━━━━━━━━━━━━━━━━━━━━━━━━━\u001b[0m \u001b[32m527.3/527.3 kB\u001b[0m \u001b[31m35.0 MB/s\u001b[0m eta \u001b[36m0:00:00\u001b[0m\n",
            "\u001b[2K   \u001b[90m━━━━━━━━━━━━━━━━━━━━━━━━━━━━━━━━━━━━━━━━\u001b[0m \u001b[32m116.3/116.3 kB\u001b[0m \u001b[31m6.1 MB/s\u001b[0m eta \u001b[36m0:00:00\u001b[0m\n",
            "\u001b[2K   \u001b[90m━━━━━━━━━━━━━━━━━━━━━━━━━━━━━━━━━━━━━━━━\u001b[0m \u001b[32m39.9/39.9 MB\u001b[0m \u001b[31m21.9 MB/s\u001b[0m eta \u001b[36m0:00:00\u001b[0m\n",
            "\u001b[2K   \u001b[90m━━━━━━━━━━━━━━━━━━━━━━━━━━━━━━━━━━━━━━━━\u001b[0m \u001b[32m134.8/134.8 kB\u001b[0m \u001b[31m11.6 MB/s\u001b[0m eta \u001b[36m0:00:00\u001b[0m\n",
            "\u001b[2K   \u001b[90m━━━━━━━━━━━━━━━━━━━━━━━━━━━━━━━━━━━━━━━━\u001b[0m \u001b[32m194.1/194.1 kB\u001b[0m \u001b[31m15.4 MB/s\u001b[0m eta \u001b[36m0:00:00\u001b[0m\n",
            "\u001b[?25h  Building wheel for peft (pyproject.toml) ... \u001b[?25l\u001b[?25hdone\n",
            "\u001b[31mERROR: pip's dependency resolver does not currently take into account all the packages that are installed. This behaviour is the source of the following dependency conflicts.\n",
            "cudf-cu12 24.4.1 requires pyarrow<15.0.0a0,>=14.0.1, but you have pyarrow 17.0.0 which is incompatible.\n",
            "ibis-framework 8.0.0 requires pyarrow<16,>=2, but you have pyarrow 17.0.0 which is incompatible.\u001b[0m\u001b[31m\n",
            "\u001b[0mRequirement already satisfied: flask in /usr/local/lib/python3.10/dist-packages (2.2.5)\n",
            "Requirement already satisfied: Werkzeug>=2.2.2 in /usr/local/lib/python3.10/dist-packages (from flask) (3.0.4)\n",
            "Requirement already satisfied: Jinja2>=3.0 in /usr/local/lib/python3.10/dist-packages (from flask) (3.1.4)\n",
            "Requirement already satisfied: itsdangerous>=2.0 in /usr/local/lib/python3.10/dist-packages (from flask) (2.2.0)\n",
            "Requirement already satisfied: click>=8.0 in /usr/local/lib/python3.10/dist-packages (from flask) (8.1.7)\n",
            "Requirement already satisfied: MarkupSafe>=2.0 in /usr/local/lib/python3.10/dist-packages (from Jinja2>=3.0->flask) (2.1.5)\n",
            "Collecting pyngrok\n",
            "  Downloading pyngrok-7.2.0-py3-none-any.whl.metadata (7.4 kB)\n",
            "Requirement already satisfied: PyYAML>=5.1 in /usr/local/lib/python3.10/dist-packages (from pyngrok) (6.0.2)\n",
            "Downloading pyngrok-7.2.0-py3-none-any.whl (22 kB)\n",
            "Installing collected packages: pyngrok\n",
            "Successfully installed pyngrok-7.2.0\n"
          ]
        }
      ]
    },
    {
      "cell_type": "code",
      "source": [
        "device='cuda'"
      ],
      "metadata": {
        "id": "2D6Uu6v0YVUq"
      },
      "execution_count": null,
      "outputs": []
    },
    {
      "cell_type": "code",
      "source": [
        "  import torch\n",
        "\n",
        "\n",
        "\n",
        "  import re\n",
        "  from flask import Flask, request, jsonify\n",
        "\n",
        "\n",
        "def extract_command(text_output):\n",
        "    # Assuming the machine response starts after the first \"Machine:\" or similar pattern\n",
        "    match = re.search(r'Machine:(.*)', text_output)\n",
        "    if match:\n",
        "        return match.group(1).strip()\n",
        "    return text_output.strip()  # Fallback if no \"Machine:\" is found"
      ],
      "metadata": {
        "id": "gYuryRMoYdid"
      },
      "execution_count": null,
      "outputs": []
    },
    {
      "cell_type": "code",
      "source": [
        "def generate_command(query, model):\n",
        "    encoding = tokenizer(query, return_tensors=\"pt\", padding=True, truncation=True)\n",
        "    encoding = {key: tensor.to(device) for key, tensor in encoding.items()}\n",
        "\n",
        "    outputs = model.generate(\n",
        "        input_ids=encoding['input_ids'],\n",
        "        attention_mask=encoding.get('attention_mask'),\n",
        "        max_length=50,  # Adjust based on your needs\n",
        "        num_beams=1,  # Reduce if needed\n",
        "        temperature=0.7  # Lower for less randomness\n",
        "    )\n",
        "\n",
        "    text_output = tokenizer.decode(outputs[0], skip_special_tokens=True)\n",
        "    extracted_command = extract_command(text_output)\n",
        "\n",
        "\n",
        "    print('INPUT\\n', query)\n",
        "    print('OUTPUT\\n', text_output)\n",
        "    print('EXTRACTED COMMAND\\n', extracted_command)\n",
        "\n",
        "    return extracted_command"
      ],
      "metadata": {
        "id": "ItuoKW06YaaI"
      },
      "execution_count": null,
      "outputs": []
    },
    {
      "cell_type": "code",
      "source": [
        "from pyngrok import ngrok\n",
        "\n",
        "# Replace 'your_authtoken' with the authtoken you copied from Ngrok\n",
        "ngrok.set_auth_token('2kYxsIDwFgwLu3uroqlR3YAntOl_6HbLAwETAt7B9fDSu3keA')\n",
        "\n",
        "# Define the port where your Flask app will run\n",
        "port = 5000\n",
        "\n",
        "# Open a ngrok tunnel to the Flask app\n",
        "public_url = ngrok.connect(port)\n",
        "print(' * ngrok tunnel \"http://%s\" -> \"http://127.0.0.1:%d\"' % (public_url, port))\n"
      ],
      "metadata": {
        "colab": {
          "base_uri": "https://localhost:8080/"
        },
        "id": "9ZQMutURb97_",
        "outputId": "8434ff6e-265b-4ac2-de84-d86afabad71d"
      },
      "execution_count": null,
      "outputs": [
        {
          "output_type": "stream",
          "name": "stdout",
          "text": [
            " * ngrok tunnel \"http://NgrokTunnel: \"https://d67f-34-124-244-157.ngrok-free.app\" -> \"http://localhost:5000\"\" -> \"http://127.0.0.1:5000\"\n"
          ]
        }
      ]
    },
    {
      "cell_type": "code",
      "source": [
        "!pip install elevenlabs"
      ],
      "metadata": {
        "colab": {
          "base_uri": "https://localhost:8080/"
        },
        "id": "htgC1HHMjzvH",
        "outputId": "c9d0b27c-8872-406f-8205-2a71ba8ef348"
      },
      "execution_count": null,
      "outputs": [
        {
          "output_type": "stream",
          "name": "stdout",
          "text": [
            "Collecting elevenlabs\n",
            "  Downloading elevenlabs-1.7.0-py3-none-any.whl.metadata (10 kB)\n",
            "Collecting httpx>=0.21.2 (from elevenlabs)\n",
            "  Downloading httpx-0.27.2-py3-none-any.whl.metadata (7.1 kB)\n",
            "Requirement already satisfied: pydantic>=1.9.2 in /usr/local/lib/python3.10/dist-packages (from elevenlabs) (2.8.2)\n",
            "Requirement already satisfied: pydantic-core<3.0.0,>=2.18.2 in /usr/local/lib/python3.10/dist-packages (from elevenlabs) (2.20.1)\n",
            "Requirement already satisfied: requests>=2.20 in /usr/local/lib/python3.10/dist-packages (from elevenlabs) (2.32.3)\n",
            "Requirement already satisfied: typing_extensions>=4.0.0 in /usr/local/lib/python3.10/dist-packages (from elevenlabs) (4.12.2)\n",
            "Collecting websockets>=11.0 (from elevenlabs)\n",
            "  Downloading websockets-13.0-cp310-cp310-manylinux_2_5_x86_64.manylinux1_x86_64.manylinux_2_17_x86_64.manylinux2014_x86_64.whl.metadata (6.7 kB)\n",
            "Requirement already satisfied: anyio in /usr/local/lib/python3.10/dist-packages (from httpx>=0.21.2->elevenlabs) (3.7.1)\n",
            "Requirement already satisfied: certifi in /usr/local/lib/python3.10/dist-packages (from httpx>=0.21.2->elevenlabs) (2024.7.4)\n",
            "Collecting httpcore==1.* (from httpx>=0.21.2->elevenlabs)\n",
            "  Downloading httpcore-1.0.5-py3-none-any.whl.metadata (20 kB)\n",
            "Requirement already satisfied: idna in /usr/local/lib/python3.10/dist-packages (from httpx>=0.21.2->elevenlabs) (3.7)\n",
            "Requirement already satisfied: sniffio in /usr/local/lib/python3.10/dist-packages (from httpx>=0.21.2->elevenlabs) (1.3.1)\n",
            "Collecting h11<0.15,>=0.13 (from httpcore==1.*->httpx>=0.21.2->elevenlabs)\n",
            "  Downloading h11-0.14.0-py3-none-any.whl.metadata (8.2 kB)\n",
            "Requirement already satisfied: annotated-types>=0.4.0 in /usr/local/lib/python3.10/dist-packages (from pydantic>=1.9.2->elevenlabs) (0.7.0)\n",
            "Requirement already satisfied: charset-normalizer<4,>=2 in /usr/local/lib/python3.10/dist-packages (from requests>=2.20->elevenlabs) (3.3.2)\n",
            "Requirement already satisfied: urllib3<3,>=1.21.1 in /usr/local/lib/python3.10/dist-packages (from requests>=2.20->elevenlabs) (2.0.7)\n",
            "Requirement already satisfied: exceptiongroup in /usr/local/lib/python3.10/dist-packages (from anyio->httpx>=0.21.2->elevenlabs) (1.2.2)\n",
            "Downloading elevenlabs-1.7.0-py3-none-any.whl (129 kB)\n",
            "\u001b[2K   \u001b[90m━━━━━━━━━━━━━━━━━━━━━━━━━━━━━━━━━━━━━━━━\u001b[0m \u001b[32m129.2/129.2 kB\u001b[0m \u001b[31m9.4 MB/s\u001b[0m eta \u001b[36m0:00:00\u001b[0m\n",
            "\u001b[?25hDownloading httpx-0.27.2-py3-none-any.whl (76 kB)\n",
            "\u001b[2K   \u001b[90m━━━━━━━━━━━━━━━━━━━━━━━━━━━━━━━━━━━━━━━━\u001b[0m \u001b[32m76.4/76.4 kB\u001b[0m \u001b[31m606.7 kB/s\u001b[0m eta \u001b[36m0:00:00\u001b[0m\n",
            "\u001b[?25hDownloading httpcore-1.0.5-py3-none-any.whl (77 kB)\n",
            "\u001b[2K   \u001b[90m━━━━━━━━━━━━━━━━━━━━━━━━━━━━━━━━━━━━━━━━\u001b[0m \u001b[32m77.9/77.9 kB\u001b[0m \u001b[31m6.7 MB/s\u001b[0m eta \u001b[36m0:00:00\u001b[0m\n",
            "\u001b[?25hDownloading websockets-13.0-cp310-cp310-manylinux_2_5_x86_64.manylinux1_x86_64.manylinux_2_17_x86_64.manylinux2014_x86_64.whl (157 kB)\n",
            "\u001b[2K   \u001b[90m━━━━━━━━━━━━━━━━━━━━━━━━━━━━━━━━━━━━━━━━\u001b[0m \u001b[32m157.2/157.2 kB\u001b[0m \u001b[31m13.2 MB/s\u001b[0m eta \u001b[36m0:00:00\u001b[0m\n",
            "\u001b[?25hDownloading h11-0.14.0-py3-none-any.whl (58 kB)\n",
            "\u001b[2K   \u001b[90m━━━━━━━━━━━━━━━━━━━━━━━━━━━━━━━━━━━━━━━━\u001b[0m \u001b[32m58.3/58.3 kB\u001b[0m \u001b[31m4.1 MB/s\u001b[0m eta \u001b[36m0:00:00\u001b[0m\n",
            "\u001b[?25hInstalling collected packages: websockets, h11, httpcore, httpx, elevenlabs\n",
            "Successfully installed elevenlabs-1.7.0 h11-0.14.0 httpcore-1.0.5 httpx-0.27.2 websockets-13.0\n"
          ]
        }
      ]
    },
    {
      "cell_type": "code",
      "source": [
        "from elevenlabs import VoiceSettings\n",
        "from elevenlabs.client import ElevenLabs"
      ],
      "metadata": {
        "colab": {
          "base_uri": "https://localhost:8080/"
        },
        "id": "PlrebuuOj5ow",
        "outputId": "0a23a046-3fb2-4169-a099-e9eb7ebca5d8"
      },
      "execution_count": null,
      "outputs": [
        {
          "output_type": "stream",
          "name": "stderr",
          "text": [
            "/usr/local/lib/python3.10/dist-packages/pydantic/_internal/_config.py:341: UserWarning: Valid config keys have changed in V2:\n",
            "* 'allow_population_by_field_name' has been renamed to 'populate_by_name'\n",
            "* 'smart_union' has been removed\n",
            "  warnings.warn(message, UserWarning)\n",
            "/usr/local/lib/python3.10/dist-packages/pydantic/_internal/_fields.py:161: UserWarning: Field \"model_id\" has conflict with protected namespace \"model_\".\n",
            "\n",
            "You may be able to resolve this warning by setting `model_config['protected_namespaces'] = ()`.\n",
            "  warnings.warn(\n"
          ]
        }
      ]
    },
    {
      "cell_type": "code",
      "source": [
        "client = ElevenLabs(\n",
        "    api_key='1c90ac9dcd85652a2782c27eccc859d1',\n",
        ")"
      ],
      "metadata": {
        "id": "XG0-P0qxjwg4"
      },
      "execution_count": null,
      "outputs": []
    },
    {
      "cell_type": "code",
      "source": [
        "\n",
        "from IPython.display import Audio, display\n",
        "import time\n",
        "import uuid"
      ],
      "metadata": {
        "id": "K9qn6d_4j47-"
      },
      "execution_count": null,
      "outputs": []
    },
    {
      "cell_type": "code",
      "source": [
        "def text_to_speech_file(text: str) -> str:\n",
        "    start_time = time.perf_counter()\n",
        "    # Calling the text_to_speech conversion API with detailed parameters\n",
        "    response = client.text_to_speech.convert(\n",
        "    voice_id=\"pNInz6obpgDQGcFmaJgB\",  # Adam pre-made voice\n",
        "    output_format=\"mp3_22050_32\",\n",
        "    text=text,\n",
        "    model_id=\"eleven_turbo_v2_5\",  # Use the turbo model for low latency\n",
        "    voice_settings=VoiceSettings(\n",
        "        stability=0.2,  # Moderate stability for a more consistent voice\n",
        "        similarity_boost=0.9,  # Slight boost to make the voice more natural\n",
        "        style=0.4,  # Add a bit of style to make the voice more expressive\n",
        "        use_speaker_boost=True,\n",
        "         optimization_level=2,# Enhance the speaker's characteristics\n",
        "    ),\n",
        ")\n",
        "    end_time =time.perf_counter() # Record the end time\n",
        "    duration = end_time - start_time  # Calculate the duration\n",
        "    print(f\"Audio conversion took {duration:.10f} seconds.\")\n",
        "\n",
        "\n",
        "\n",
        "    save_file_path = f\"{uuid.uuid4()}.mp3\"\n",
        "\n",
        "    # Writing the audio to a file\n",
        "    with open(save_file_path, \"wb\") as f:\n",
        "        for chunk in response:\n",
        "            if chunk:\n",
        "                f.write(chunk)\n",
        "\n",
        "    print(f\"{save_file_path}: A new audio file was saved successfully!\")\n",
        "    display(Audio(save_file_path))\n",
        "\n",
        "    # Return the path of the saved audio file\n",
        "    return save_file_path"
      ],
      "metadata": {
        "id": "kPVqYrrDjo68"
      },
      "execution_count": null,
      "outputs": []
    },
    {
      "cell_type": "code",
      "source": [
        "text_to_speech_file('hello')"
      ],
      "metadata": {
        "colab": {
          "base_uri": "https://localhost:8080/",
          "height": 128
        },
        "id": "-KAJsGpMprgF",
        "outputId": "3979bb3e-62d2-4559-a9fc-c53a67eefc1e"
      },
      "execution_count": null,
      "outputs": [
        {
          "output_type": "stream",
          "name": "stdout",
          "text": [
            "Audio conversion took 0.0000570980 seconds.\n",
            "5f52b2e0-4a64-4bd4-a3b2-800192a4a00a.mp3: A new audio file was saved successfully!\n"
          ]
        },
        {
          "output_type": "display_data",
          "data": {
            "text/plain": [
              "<IPython.lib.display.Audio object>"
            ],
            "text/html": [
              "\n",
              "                <audio  controls=\"controls\" >\n",
              "                    <source src=\"data:audio/mpeg;base64,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\" type=\"audio/mpeg\" />\n",
              "                    Your browser does not support the audio element.\n",
              "                </audio>\n",
              "              "
            ]
          },
          "metadata": {}
        },
        {
          "output_type": "execute_result",
          "data": {
            "text/plain": [
              "'5f52b2e0-4a64-4bd4-a3b2-800192a4a00a.mp3'"
            ],
            "application/vnd.google.colaboratory.intrinsic+json": {
              "type": "string"
            }
          },
          "metadata": {},
          "execution_count": 11
        }
      ]
    },
    {
      "cell_type": "code",
      "execution_count": null,
      "metadata": {
        "colab": {
          "base_uri": "https://localhost:8080/"
        },
        "id": "dnk4a8XC_4QL",
        "outputId": "9eb6ac05-45ac-45a7-9688-23b4284b943c"
      },
      "outputs": [
        {
          "metadata": {
            "tags": null
          },
          "name": "stdout",
          "output_type": "stream",
          "text": [
            " * Serving Flask app '__main__'\n",
            " * Debug mode: off\n"
          ]
        },
        {
          "metadata": {
            "tags": null
          },
          "name": "stderr",
          "output_type": "stream",
          "text": [
            "INFO:werkzeug:\u001b[31m\u001b[1mWARNING: This is a development server. Do not use it in a production deployment. Use a production WSGI server instead.\u001b[0m\n",
            " * Running on http://127.0.0.1:5000\n",
            "INFO:werkzeug:\u001b[33mPress CTRL+C to quit\u001b[0m\n"
          ]
        },
        {
          "metadata": {
            "tags": null
          },
          "name": "stdout",
          "output_type": "stream",
          "text": [
            "{'input_ids': tensor([[    1,   518, 19795,  1529,  2797, 29962,  3148,  1001, 29901,  7251,\n",
            "           920,   526,   366]], device='cuda:0'), 'attention_mask': tensor([[1, 1, 1, 1, 1, 1, 1, 1, 1, 1, 1, 1, 1]], device='cuda:0')}\n"
          ]
        },
        {
          "metadata": {
            "tags": null
          },
          "name": "stderr",
          "output_type": "stream",
          "text": [
            "INFO:werkzeug:127.0.0.1 - - [27/Aug/2024 18:01:06] \"POST /predict HTTP/1.1\" 200 -\n"
          ]
        },
        {
          "metadata": {
            "tags": null
          },
          "name": "stdout",
          "output_type": "stream",
          "text": [
            "{'input_ids': tensor([[    1,   518, 19795,  1529,  2797, 29962,  3148,  1001, 29901,   306,\n",
            "           626, 23407]], device='cuda:0'), 'attention_mask': tensor([[1, 1, 1, 1, 1, 1, 1, 1, 1, 1, 1, 1]], device='cuda:0')}\n"
          ]
        },
        {
          "metadata": {
            "tags": null
          },
          "name": "stderr",
          "output_type": "stream",
          "text": [
            "INFO:werkzeug:127.0.0.1 - - [27/Aug/2024 18:01:26] \"POST /predict HTTP/1.1\" 200 -\n"
          ]
        }
      ],
      "source": [
        "from transformers import AutoTokenizer, AutoModelForCausalLM\n",
        "from flask import Flask, request, jsonify, send_file\n",
        "# Load the tokenizer\n",
        "tokenizer = AutoTokenizer.from_pretrained('drive/MyDrive/LLM_RM/saved_ft_model')\n",
        "\n",
        "# Load the model\n",
        "model = AutoModelForCausalLM.from_pretrained('drive/MyDrive/LLM_RM/saved_ft_model')\n",
        "model = model.to(device)\n",
        "\n",
        "app = Flask(__name__)\n",
        "\n",
        "@app.route('/predict', methods=['POST'])\n",
        "def predict():\n",
        "    try:\n",
        "        data = request.json\n",
        "        input_text = data.get('text', '')\n",
        "\n",
        "        # Tokenize input\n",
        "        inputs = tokenizer(input_text, return_tensors='pt').to(device)\n",
        "\n",
        "        # Generate prediction\n",
        "        encoding = tokenizer(f'[COMMAND] USER: {input_text}', return_tensors=\"pt\", padding=True, truncation=True)\n",
        "        encoding = {key: tensor.to(device) for key, tensor in encoding.items()}\n",
        "        print(encoding)\n",
        "\n",
        "        outputs = model.generate(\n",
        "                  input_ids=encoding['input_ids'],\n",
        "                  max_length=50,  # Example of reducing max_length\n",
        "                  num_beams=1,    # Example of reducing the number of beams\n",
        "                    )\n",
        "\n",
        "        text_output = tokenizer.decode(outputs[0], skip_special_tokens=True)\n",
        "        decoded_output = extract_command(text_output)\n",
        "        return jsonify({'response': decoded_output})\n",
        "    except Exception as e:\n",
        "        return jsonify({'error': str(e)})\n",
        "\n",
        "\n",
        "if __name__ == '__main__':\n",
        "    app.run(port=5000, debug=False)\n",
        "\n"
      ]
    },
    {
      "cell_type": "code",
      "source": [
        "  !pip install fastapi uvicorn\n"
      ],
      "metadata": {
        "id": "89HRTCLdqhwH",
        "colab": {
          "base_uri": "https://localhost:8080/"
        },
        "outputId": "e38ca0b5-a071-4ca9-885c-63e101fc52e0"
      },
      "execution_count": null,
      "outputs": [
        {
          "output_type": "stream",
          "name": "stdout",
          "text": [
            "Collecting fastapi\n",
            "  Downloading fastapi-0.112.2-py3-none-any.whl.metadata (27 kB)\n",
            "Collecting uvicorn\n",
            "  Downloading uvicorn-0.30.6-py3-none-any.whl.metadata (6.6 kB)\n",
            "Collecting starlette<0.39.0,>=0.37.2 (from fastapi)\n",
            "  Downloading starlette-0.38.2-py3-none-any.whl.metadata (5.9 kB)\n",
            "Requirement already satisfied: pydantic!=1.8,!=1.8.1,!=2.0.0,!=2.0.1,!=2.1.0,<3.0.0,>=1.7.4 in /usr/local/lib/python3.10/dist-packages (from fastapi) (2.8.2)\n",
            "Requirement already satisfied: typing-extensions>=4.8.0 in /usr/local/lib/python3.10/dist-packages (from fastapi) (4.12.2)\n",
            "Requirement already satisfied: click>=7.0 in /usr/local/lib/python3.10/dist-packages (from uvicorn) (8.1.7)\n",
            "Requirement already satisfied: h11>=0.8 in /usr/local/lib/python3.10/dist-packages (from uvicorn) (0.14.0)\n",
            "Requirement already satisfied: annotated-types>=0.4.0 in /usr/local/lib/python3.10/dist-packages (from pydantic!=1.8,!=1.8.1,!=2.0.0,!=2.0.1,!=2.1.0,<3.0.0,>=1.7.4->fastapi) (0.7.0)\n",
            "Requirement already satisfied: pydantic-core==2.20.1 in /usr/local/lib/python3.10/dist-packages (from pydantic!=1.8,!=1.8.1,!=2.0.0,!=2.0.1,!=2.1.0,<3.0.0,>=1.7.4->fastapi) (2.20.1)\n",
            "Requirement already satisfied: anyio<5,>=3.4.0 in /usr/local/lib/python3.10/dist-packages (from starlette<0.39.0,>=0.37.2->fastapi) (3.7.1)\n",
            "Requirement already satisfied: idna>=2.8 in /usr/local/lib/python3.10/dist-packages (from anyio<5,>=3.4.0->starlette<0.39.0,>=0.37.2->fastapi) (3.7)\n",
            "Requirement already satisfied: sniffio>=1.1 in /usr/local/lib/python3.10/dist-packages (from anyio<5,>=3.4.0->starlette<0.39.0,>=0.37.2->fastapi) (1.3.1)\n",
            "Requirement already satisfied: exceptiongroup in /usr/local/lib/python3.10/dist-packages (from anyio<5,>=3.4.0->starlette<0.39.0,>=0.37.2->fastapi) (1.2.2)\n",
            "Downloading fastapi-0.112.2-py3-none-any.whl (93 kB)\n",
            "\u001b[2K   \u001b[90m━━━━━━━━━━━━━━━━━━━━━━━━━━━━━━━━━━━━━━━━\u001b[0m \u001b[32m93.5/93.5 kB\u001b[0m \u001b[31m5.2 MB/s\u001b[0m eta \u001b[36m0:00:00\u001b[0m\n",
            "\u001b[?25hDownloading uvicorn-0.30.6-py3-none-any.whl (62 kB)\n",
            "\u001b[2K   \u001b[90m━━━━━━━━━━━━━━━━━━━━━━━━━━━━━━━━━━━━━━━━\u001b[0m \u001b[32m62.8/62.8 kB\u001b[0m \u001b[31m2.7 MB/s\u001b[0m eta \u001b[36m0:00:00\u001b[0m\n",
            "\u001b[?25hDownloading starlette-0.38.2-py3-none-any.whl (72 kB)\n",
            "\u001b[2K   \u001b[90m━━━━━━━━━━━━━━━━━━━━━━━━━━━━━━━━━━━━━━━━\u001b[0m \u001b[32m72.0/72.0 kB\u001b[0m \u001b[31m1.9 MB/s\u001b[0m eta \u001b[36m0:00:00\u001b[0m\n",
            "\u001b[?25hInstalling collected packages: uvicorn, starlette, fastapi\n",
            "Successfully installed fastapi-0.112.2 starlette-0.38.2 uvicorn-0.30.6\n"
          ]
        }
      ]
    },
    {
      "cell_type": "code",
      "source": [
        "!pip install nest_asyncio\n"
      ],
      "metadata": {
        "id": "T-Fmp1w1rNae",
        "colab": {
          "base_uri": "https://localhost:8080/"
        },
        "outputId": "538d4098-2856-46fe-e2cc-d069e6bbdd7a"
      },
      "execution_count": null,
      "outputs": [
        {
          "output_type": "stream",
          "name": "stdout",
          "text": [
            "Requirement already satisfied: nest_asyncio in /usr/local/lib/python3.10/dist-packages (1.6.0)\n"
          ]
        }
      ]
    },
    {
      "cell_type": "code",
      "source": [
        "from transformers import AutoTokenizer, AutoModelForCausalLM\n",
        "from fastapi import FastAPI, HTTPException\n",
        "from pydantic import BaseModel\n",
        "from typing import Optional\n",
        "from fastapi.responses import StreamingResponse\n",
        "import io\n",
        "import nest_asyncio\n",
        "import uvicorn\n",
        "\n",
        "\n",
        "# Initialize FastAPI app\n",
        "app = FastAPI()\n",
        "\n",
        "# Load the tokenizer and model\n",
        "tokenizer = AutoTokenizer.from_pretrained('drive/MyDrive/LLM_RM/saved_ft_model')\n",
        "model = AutoModelForCausalLM.from_pretrained('drive/MyDrive/LLM_RM/saved_ft_model')\n",
        "# Assuming 'device' is already defined, e.g., device = torch.device(\"cuda\" if torch.cuda.is_available() else \"cpu\")\n",
        "model = model.to(device)\n",
        "\n",
        "# Define the request body schema\n",
        "class PredictRequest(BaseModel):\n",
        "    text: str\n",
        "\n",
        "@app.post('/predict')\n",
        "async def predict(request: PredictRequest):\n",
        "    try:\n",
        "        input_text = request.text\n",
        "\n",
        "        # Tokenize input\n",
        "        inputs = tokenizer(input_text, return_tensors='pt').to(device)\n",
        "\n",
        "        # Generate prediction\n",
        "        encoding = tokenizer(f'[COMMAND] USER: {input_text}', return_tensors=\"pt\", padding=True, truncation=True)\n",
        "        encoding = {key: tensor.to(device) for key, tensor in encoding.items()}\n",
        "        print(encoding)\n",
        "\n",
        "        outputs = model.generate(\n",
        "                  input_ids=encoding['input_ids'],\n",
        "                  max_length=50,  # Example of reducing max_length\n",
        "                  num_beams=1,    # Example of reducing the number of beams\n",
        "                    )\n",
        "\n",
        "        text_output = tokenizer.decode(outputs[0], skip_special_tokens=True)\n",
        "        decoded_output = extract_command(text_output)\n",
        "\n",
        "        # Generate audio file from text (assuming text_to_speech_file function exists)\n",
        "        audio_file_path = text_to_speech_file(decoded_output)\n",
        "\n",
        "        # Stream the audio file as a response\n",
        "        return StreamingResponse(open(audio_file_path, 'rb'), media_type='audio/mp3')\n",
        "    except Exception as e:\n",
        "        raise HTTPException(status_code=500, detail=str(e))\n",
        "\n",
        "# Run the application with uvicorn\n",
        "if __name__ == '__main__':\n",
        "    nest_asyncio.apply()\n",
        "    uvicorn.run(app, host=\"0.0.0.0\", port=5000)\n",
        "\n",
        "\n",
        "\n"
      ],
      "metadata": {
        "id": "2p2Z7KMAqgLh",
        "colab": {
          "base_uri": "https://localhost:8080/",
          "height": 1000,
          "referenced_widgets": [
            "86d882faee9f42648f4d9371dde84e57",
            "864a866307f04da79dde965d6a8261b2",
            "b380ed7a34fc40c091fb99e59d8c8dd1",
            "cc43528388f04151b04e58826510ce2d",
            "d848d53b1f5c459e86b0de190fd53e0d",
            "cd11982c0503494388fd08a0de0c86c5",
            "da0585007ecb4552b0ab8229696bbd51",
            "01f1c2f88495479fa66880c0d932f488",
            "d6f444e39f524016b9506e3a1c1df91c",
            "12bd6f5ae66944c6adfc512726a4d6cc",
            "230f4086308a4ef0b53d194845ff869b",
            "19613df055da4a4886df26558cee8e16",
            "3ac6935cf8494b168cccee4b4683e2f2",
            "193a1c71da704ce2ac7ed574c21d565a",
            "1fa36f8f680b409883eac9f049cc5fe7",
            "e4230a2c5813400287071e8ca7c9280f",
            "2e22ac3228b544478452231343b47c58",
            "635bf3e2064d4234b0b1a5bff35ecd55",
            "96b10b783508483d92472c533a143e66",
            "8cf46f602c0d40cfb5ac9f536ea6057f",
            "02060addb3e744b8ae1f09ad33d4508e",
            "efa7af3082df4d81bca064a981f90162",
            "e467c1881c384e3093258039b8164126",
            "dc7839db138a4ea0a91617a584bc1c02",
            "edd078c2ff454a079553f584e13962f7",
            "b35c126d2ab84fd18838d8b2432a47e7",
            "e343e7235b944656b784cce5c64e2056",
            "2cfde0cbde8644ca8dcac231227753ef",
            "1cda863f211848949b74337f6bc1584b",
            "0d46306762f241969d5fe6e1e50d01aa",
            "d39e526c225147d5ad03b169353dfc89",
            "2c2baf2333c24f08bf6d7f65d6452a89",
            "7f5c1a1deef446d9b95bab39d67dedbd"
          ]
        },
        "outputId": "8e3d47a7-1872-4291-84a6-00f8924b8956"
      },
      "execution_count": null,
      "outputs": [
        {
          "output_type": "stream",
          "name": "stderr",
          "text": [
            "/usr/local/lib/python3.10/dist-packages/huggingface_hub/utils/_token.py:89: UserWarning: \n",
            "The secret `HF_TOKEN` does not exist in your Colab secrets.\n",
            "To authenticate with the Hugging Face Hub, create a token in your settings tab (https://huggingface.co/settings/tokens), set it as secret in your Google Colab and restart your session.\n",
            "You will be able to reuse this secret in all of your notebooks.\n",
            "Please note that authentication is recommended but still optional to access public models or datasets.\n",
            "  warnings.warn(\n"
          ]
        },
        {
          "output_type": "display_data",
          "data": {
            "text/plain": [
              "config.json:   0%|          | 0.00/608 [00:00<?, ?B/s]"
            ],
            "application/vnd.jupyter.widget-view+json": {
              "version_major": 2,
              "version_minor": 0,
              "model_id": "86d882faee9f42648f4d9371dde84e57"
            }
          },
          "metadata": {}
        },
        {
          "output_type": "display_data",
          "data": {
            "text/plain": [
              "model.safetensors:   0%|          | 0.00/2.20G [00:00<?, ?B/s]"
            ],
            "application/vnd.jupyter.widget-view+json": {
              "version_major": 2,
              "version_minor": 0,
              "model_id": "19613df055da4a4886df26558cee8e16"
            }
          },
          "metadata": {}
        },
        {
          "output_type": "display_data",
          "data": {
            "text/plain": [
              "generation_config.json:   0%|          | 0.00/124 [00:00<?, ?B/s]"
            ],
            "application/vnd.jupyter.widget-view+json": {
              "version_major": 2,
              "version_minor": 0,
              "model_id": "e467c1881c384e3093258039b8164126"
            }
          },
          "metadata": {}
        },
        {
          "output_type": "stream",
          "name": "stderr",
          "text": [
            "INFO:     Started server process [364]\n",
            "INFO:     Waiting for application startup.\n",
            "INFO:     Application startup complete.\n",
            "INFO:     Uvicorn running on http://0.0.0.0:5000 (Press CTRL+C to quit)\n"
          ]
        },
        {
          "output_type": "stream",
          "name": "stdout",
          "text": [
            "{'input_ids': tensor([[    1,   518, 19795,  1529,  2797, 29962,  3148,  1001, 29901, 22172,\n",
            "           920,   526,   366]], device='cuda:0'), 'attention_mask': tensor([[1, 1, 1, 1, 1, 1, 1, 1, 1, 1, 1, 1, 1]], device='cuda:0')}\n",
            "Audio conversion took 0.0000479330 seconds.\n",
            "afef9cd1-ac3d-4e04-8f71-a0d14f822ff4.mp3: A new audio file was saved successfully!\n"
          ]
        },
        {
          "output_type": "display_data",
          "data": {
            "text/plain": [
              "<IPython.lib.display.Audio object>"
            ],
            "text/html": [
              "\n",
              "                <audio  controls=\"controls\" >\n",
              "                    <source src=\"data:audio/mpeg;base64,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\" type=\"audio/mpeg\" />\n",
              "                    Your browser does not support the audio element.\n",
              "                </audio>\n",
              "              "
            ]
          },
          "metadata": {}
        },
        {
          "output_type": "stream",
          "name": "stdout",
          "text": [
            "INFO:     103.156.19.229:0 - \"POST /predict HTTP/1.1\" 200 OK\n",
            "{'input_ids': tensor([[    1,   518, 19795,  1529,  2797, 29962,  3148,  1001, 29901,  4874,\n",
            "          1235, 29915, 29879,   748]], device='cuda:0'), 'attention_mask': tensor([[1, 1, 1, 1, 1, 1, 1, 1, 1, 1, 1, 1, 1, 1]], device='cuda:0')}\n",
            "Audio conversion took 0.0000456680 seconds.\n",
            "15b5db1a-5684-4260-9496-873ac6b2a546.mp3: A new audio file was saved successfully!\n"
          ]
        },
        {
          "output_type": "display_data",
          "data": {
            "text/plain": [
              "<IPython.lib.display.Audio object>"
            ],
            "text/html": [
              "\n",
              "                <audio  controls=\"controls\" >\n",
              "                    <source src=\"data:audio/mpeg;base64,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\" type=\"audio/mpeg\" />\n",
              "                    Your browser does not support the audio element.\n",
              "                </audio>\n",
              "              "
            ]
          },
          "metadata": {}
        },
        {
          "output_type": "stream",
          "name": "stdout",
          "text": [
            "INFO:     119.161.98.68:0 - \"POST /predict HTTP/1.1\" 200 OK\n",
            "{'input_ids': tensor([[    1,   518, 19795,  1529,  2797, 29962,  3148,  1001, 29901, 20759]],\n",
            "       device='cuda:0'), 'attention_mask': tensor([[1, 1, 1, 1, 1, 1, 1, 1, 1, 1]], device='cuda:0')}\n",
            "Audio conversion took 0.0000528240 seconds.\n",
            "232f1d20-d7c4-4c54-ad93-3b5c895ffbba.mp3: A new audio file was saved successfully!\n"
          ]
        },
        {
          "output_type": "display_data",
          "data": {
            "text/plain": [
              "<IPython.lib.display.Audio object>"
            ],
            "text/html": [
              "\n",
              "                <audio  controls=\"controls\" >\n",
              "                    <source src=\"data:audio/mpeg;base64,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\" type=\"audio/mpeg\" />\n",
              "                    Your browser does not support the audio element.\n",
              "                </audio>\n",
              "              "
            ]
          },
          "metadata": {}
        },
        {
          "output_type": "stream",
          "name": "stdout",
          "text": [
            "INFO:     103.156.19.229:0 - \"POST /predict HTTP/1.1\" 200 OK\n",
            "{'input_ids': tensor([[    1,   518, 19795,  1529,  2797, 29962,  3148,  1001, 29901,   306,\n",
            "           626, 23407]], device='cuda:0'), 'attention_mask': tensor([[1, 1, 1, 1, 1, 1, 1, 1, 1, 1, 1, 1]], device='cuda:0')}\n",
            "Audio conversion took 0.0000560180 seconds.\n",
            "217af23b-5f7f-47dd-a5b0-852ea0226e0a.mp3: A new audio file was saved successfully!\n"
          ]
        },
        {
          "output_type": "display_data",
          "data": {
            "text/plain": [
              "<IPython.lib.display.Audio object>"
            ],
            "text/html": [
              "\n",
              "                <audio  controls=\"controls\" >\n",
              "                    <source src=\"data:audio/mpeg;base64,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\" type=\"audio/mpeg\" />\n",
              "                    Your browser does not support the audio element.\n",
              "                </audio>\n",
              "              "
            ]
          },
          "metadata": {}
        },
        {
          "output_type": "stream",
          "name": "stdout",
          "text": [
            "INFO:     103.156.19.229:0 - \"POST /predict HTTP/1.1\" 200 OK\n",
            "{'input_ids': tensor([[    1,   518, 19795,  1529,  2797, 29962,  3148,  1001, 29901,  7251,\n",
            "           920,   526,   366]], device='cuda:0'), 'attention_mask': tensor([[1, 1, 1, 1, 1, 1, 1, 1, 1, 1, 1, 1, 1]], device='cuda:0')}\n",
            "Audio conversion took 0.0000558400 seconds.\n",
            "a5e9890c-16d4-4edb-a781-fbac7a67aeae.mp3: A new audio file was saved successfully!\n"
          ]
        },
        {
          "output_type": "display_data",
          "data": {
            "text/plain": [
              "<IPython.lib.display.Audio object>"
            ],
            "text/html": [
              "\n",
              "                <audio  controls=\"controls\" >\n",
              "                    <source src=\"data:audio/mpeg;base64,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\" type=\"audio/mpeg\" />\n",
              "                    Your browser does not support the audio element.\n",
              "                </audio>\n",
              "              "
            ]
          },
          "metadata": {}
        },
        {
          "output_type": "stream",
          "name": "stdout",
          "text": [
            "INFO:     103.156.19.229:0 - \"POST /predict HTTP/1.1\" 200 OK\n"
          ]
        }
      ]
    },
    {
      "cell_type": "code",
      "source": [
        "input_text = \"i am tired\"\n",
        "\n",
        "        # Tokenize input\n",
        "inputs = tokenizer(input_text, return_tensors='pt').to(device)\n",
        "\n",
        "        # Generate prediction\n",
        "outputs = model.generate(**inputs)\n",
        "decoded_output = tokenizer.decode(outputs[0], skip_special_tokens=True)\n",
        "print(decoded_output)"
      ],
      "metadata": {
        "id": "8oF30n-osG2u"
      },
      "execution_count": null,
      "outputs": []
    },
    {
      "cell_type": "code",
      "source": [
        "user_input = 'i am tired'"
      ],
      "metadata": {
        "id": "WCbMjH7OtIGL"
      },
      "execution_count": null,
      "outputs": []
    },
    {
      "cell_type": "code",
      "source": [
        "encoding = tokenizer(f'[COMMAND] USER: {user_input}', return_tensors=\"pt\", padding=True, truncation=True)\n",
        "encoding = {key: tensor.to(device) for key, tensor in encoding.items()}\n",
        "print(encoding)\n",
        "\n",
        "outputs = model.generate(\n",
        "    input_ids=encoding['input_ids'],\n",
        "    max_length=50,  # Example of reducing max_length\n",
        "    num_beams=1,    # Example of reducing the number of beams\n",
        ")\n",
        "\n",
        "text_output = tokenizer.decode(outputs[0], skip_special_tokens=True)\n",
        "# extracted_command = extract_command(text_output)\n",
        "print(extract_command(text_output))"
      ],
      "metadata": {
        "id": "sRoS7R4btFxm"
      },
      "execution_count": null,
      "outputs": []
    }
  ]
}